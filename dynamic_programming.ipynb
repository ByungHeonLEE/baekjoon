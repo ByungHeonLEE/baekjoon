{
  "nbformat": 4,
  "nbformat_minor": 0,
  "metadata": {
    "colab": {
      "name": "dynamic_programming.ipynb",
      "provenance": [],
      "collapsed_sections": []
    },
    "kernelspec": {
      "name": "python3",
      "display_name": "Python 3"
    }
  },
  "cells": [
    {
      "cell_type": "markdown",
      "metadata": {
        "id": "TlxSumuiR5kC"
      },
      "source": [
        "Dynamic Programming"
      ]
    },
    {
      "cell_type": "code",
      "metadata": {
        "colab": {
          "base_uri": "https://localhost:8080/"
        },
        "id": "eAPYsOO9J6NK",
        "outputId": "8c2ee4bc-0a14-47d0-81e8-166df1abfe9a"
      },
      "source": [
        "#백준 9095번\n",
        "def make_a_sum(number):\n",
        "    if number == 1:\n",
        "        answer = 1\n",
        "    elif number == 2:\n",
        "        answer = 2\n",
        "    elif number == 3:\n",
        "        answer = 4\n",
        "    else:\n",
        "        answer = make_a_sum(number-1) + make_a_sum(number-2) + make_a_sum(number-3)\n",
        "    return answer\n",
        "\n",
        "a = []\n",
        "how_many = int(input())\n",
        "for i in range(how_many):\n",
        "    a.append(int(input()))\n",
        "for i in range(len(a)):\n",
        "    print(make_a_sum(a[i]))"
      ],
      "execution_count": null,
      "outputs": [
        {
          "output_type": "stream",
          "text": [
            "3\n",
            "4\n",
            "7\n",
            "10\n",
            "7\n",
            "44\n",
            "274\n"
          ],
          "name": "stdout"
        }
      ]
    },
    {
      "cell_type": "code",
      "metadata": {
        "colab": {
          "base_uri": "https://localhost:8080/"
        },
        "id": "M6LMpMNQR1DP",
        "outputId": "b3888886-9059-4be5-fea0-a28608d414d7"
      },
      "source": [
        "#백준11726번 - 맞긴 하지만 동적계획법을 사용하지 않아서 시간초과가 되어버림 + 재귀 에러 \n",
        "def get_number(number):\n",
        "    if number == 1:\n",
        "        answer = 1\n",
        "    elif number == 2:\n",
        "        answer = 2\n",
        "    else:\n",
        "        answer = get_number(number-1) + get_number(number-2)\n",
        "    return answer\n",
        "\n",
        "a = int(input())\n",
        "what = get_number(a)\n",
        "print(what%10007)"
      ],
      "execution_count": null,
      "outputs": [
        {
          "output_type": "stream",
          "text": [
            "8\n",
            "34\n"
          ],
          "name": "stdout"
        }
      ]
    },
    {
      "cell_type": "code",
      "metadata": {
        "colab": {
          "base_uri": "https://localhost:8080/"
        },
        "id": "Nlo7XcDKsBsV",
        "outputId": "78ec95cd-84de-491f-8470-b33b62341c12"
      },
      "source": [
        "#동적 할당법을 알고 난 병헌이의 풀이 1)반복적 동적할당법\n",
        "def get_number(number):\n",
        "    cache = [1 for _ in range(number+1)]\n",
        "    cache[2] = 2\n",
        "    if number < 3:\n",
        "        return number\n",
        "    \n",
        "    for i in range(3, number+1):\n",
        "        cache[i] = cache[i-1] + cache[i-2]\n",
        "    return cache[i]\n",
        "a = int(input())\n",
        "what = get_number(a)\n",
        "print(what%10007)"
      ],
      "execution_count": null,
      "outputs": [
        {
          "output_type": "stream",
          "text": [
            "40\n",
            "4319\n"
          ],
          "name": "stdout"
        }
      ]
    },
    {
      "cell_type": "code",
      "metadata": {
        "colab": {
          "base_uri": "https://localhost:8080/"
        },
        "id": "i3MyRu2OtKfd",
        "outputId": "91eb1593-b583-4390-c946-1083f5a22a60"
      },
      "source": [
        "#풀이2 재귀적 동적 할당법\n",
        "def get_number(n, __cache={1:1, 2:2}):\n",
        "    if n in __cache:\n",
        "        return __cache[n]\n",
        "    __cache[n] = get_number(n-1) + get_number(n-2)\n",
        "    return __cache[n]\n",
        "\n",
        "a = int(input())\n",
        "what = get_number(a)\n",
        "print(what%10007)"
      ],
      "execution_count": null,
      "outputs": [
        {
          "output_type": "stream",
          "text": [
            "40\n",
            "4319\n"
          ],
          "name": "stdout"
        }
      ]
    },
    {
      "cell_type": "code",
      "metadata": {
        "colab": {
          "base_uri": "https://localhost:8080/"
        },
        "id": "pbV-vW-pWBHR",
        "outputId": "19ef930d-488b-4da3-ff20-bf4a1101248b"
      },
      "source": [
        "#1003번 백준\n",
        "def pibona(number):\n",
        "    n = []\n",
        "    if number == 0:\n",
        "        n.append('0')\n",
        "    elif number == 1:\n",
        "        n.append('1')\n",
        "    else:\n",
        "        n = pibona(number-1) + pibona(number-2)\n",
        "    return n\n",
        "\n",
        "\n",
        "a = []\n",
        "how_many = int(input())\n",
        "for i in range(how_many):\n",
        "    a.append(int(input()))\n",
        "for i in range(len(a)):\n",
        "    answer0 = pibona(a[i])\n",
        "    print(pibona(a[i]).count('0'), pibona(a[i]).count('1'))"
      ],
      "execution_count": null,
      "outputs": [
        {
          "output_type": "stream",
          "text": [
            "3\n",
            "4\n",
            "5\n",
            "6\n",
            "2 3\n",
            "3 5\n",
            "5 8\n"
          ],
          "name": "stdout"
        }
      ]
    },
    {
      "cell_type": "code",
      "metadata": {
        "colab": {
          "base_uri": "https://localhost:8080/"
        },
        "id": "iccyH_18ud1I",
        "outputId": "486b3d6e-fa5b-428d-8b3e-4389021ac357"
      },
      "source": [
        "#풀이2 재귀적 동적 할당법\n",
        "def pibona(n):\n",
        "    if n==0:\n",
        "        return 1, 0\n",
        "    cache1 = [1 for _ in range(n+1)]\n",
        "    cache1[1] = 0\n",
        "\n",
        "    for i in range(3, n+1):\n",
        "        cache1[i] = cache1[i-1] + cache1[i-2]\n",
        "\n",
        "    cache2 = [0 for _ in range(n+1)]\n",
        "    cache2[1] =1\n",
        "    for i in range(2, n+1):\n",
        "        cache2[i] = cache2[i-1] + cache2[i-2]\n",
        "    return cache1[n], cache2[n]\n",
        "\n",
        "\n",
        "\n",
        "\n",
        "a = []\n",
        "how_many = int(input())\n",
        "for i in range(how_many):\n",
        "    a.append(int(input()))\n",
        "for i in range(len(a)):\n",
        "    print(pibona(a[i])[0], pibona(a[i])[1])\n"
      ],
      "execution_count": null,
      "outputs": [
        {
          "output_type": "stream",
          "text": [
            "3\n",
            "0\n",
            "1\n",
            "3\n",
            "1 0\n",
            "0 1\n",
            "1 2\n"
          ],
          "name": "stdout"
        }
      ]
    },
    {
      "cell_type": "code",
      "metadata": {
        "id": "Bbm9ZiXspkHy"
      },
      "source": [
        "#피보나치 \n",
        "\n",
        "def fibo(n):\n",
        "    return fibo(n-1) + fibo(n-2) if n >= 2 else n\n",
        "\n",
        "def fibo1(n):\n",
        "    if n < 2:\n",
        "        return n\n",
        "    a, b = 0, 1\n",
        "    for i in range(n-1):\n",
        "        a, b = b, a+b\n",
        "    return b"
      ],
      "execution_count": null,
      "outputs": []
    },
    {
      "cell_type": "code",
      "metadata": {
        "colab": {
          "base_uri": "https://localhost:8080/"
        },
        "id": "gJUlzkhwbpGA",
        "outputId": "d4a1ec7b-d8d5-4c2e-8060-03f116dabb88"
      },
      "source": [
        "def fibo2(n):\n",
        "    if n < 2:\n",
        "        return n\n",
        "    cache = [0 for _ in range(n+1)]\n",
        "    cache[1] = 1\n",
        "\n",
        "    for i in range(2, 100+1):\n",
        "        cache[i] = cache[i-1] + cache[i-2]\n",
        "    return cache[n]\n",
        "\n",
        "print(fibo2(100))"
      ],
      "execution_count": null,
      "outputs": [
        {
          "output_type": "stream",
          "text": [
            "354224848179261915075\n"
          ],
          "name": "stdout"
        }
      ]
    },
    {
      "cell_type": "code",
      "metadata": {
        "colab": {
          "base_uri": "https://localhost:8080/"
        },
        "id": "KG2lWwtZq5Nn",
        "outputId": "d5712a1b-215c-46ad-9e9c-136cc505d254"
      },
      "source": [
        "def fibo3(n):\n",
        "    cache = [-1 for _ in range(n+1)]\n",
        "    def iterate(n):\n",
        "        if n < 2:\n",
        "            return n\n",
        "        if cache[n] != -1:\n",
        "            return cache[n]\n",
        "        cache[n] = iterate(n-1) + iterate(n-2)\n",
        "        return cache[n]\n",
        "    return iterate(n)\n",
        "\n",
        "print(fibo3(100))"
      ],
      "execution_count": null,
      "outputs": [
        {
          "output_type": "stream",
          "text": [
            "354224848179261915075\n"
          ],
          "name": "stdout"
        }
      ]
    },
    {
      "cell_type": "code",
      "metadata": {
        "colab": {
          "base_uri": "https://localhost:8080/"
        },
        "id": "-wkkduv3rpAg",
        "outputId": "6b6e5a91-570e-400d-bc5f-2fb17389a3b3"
      },
      "source": [
        "def fibo4(n, __cache={0:0, 1:1}):\n",
        "    if n in __cache:\n",
        "        return __cache[n]\n",
        "    __cache[n] = fibo4(n-1) + fibo4(n-2)\n",
        "    return __cache[n]\n",
        "\n",
        "print(fibo4(100))"
      ],
      "execution_count": null,
      "outputs": [
        {
          "output_type": "stream",
          "text": [
            "354224848179261915075\n"
          ],
          "name": "stdout"
        }
      ]
    }
  ]
}